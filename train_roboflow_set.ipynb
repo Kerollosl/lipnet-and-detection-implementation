{
  "nbformat": 4,
  "nbformat_minor": 0,
  "metadata": {
    "colab": {
      "provenance": [],
      "collapsed_sections": [
        "sC9OyXfhEe9q",
        "fu67LwtJEqLg",
        "2Y3IBnDDExIb",
        "sQkTXAKfE2Gn"
      ],
      "gpuType": "L4"
    },
    "kernelspec": {
      "name": "python3",
      "display_name": "Python 3"
    },
    "language_info": {
      "name": "python"
    },
    "accelerator": "GPU"
  },
  "cells": [
    {
      "cell_type": "markdown",
      "source": [
        "# Install Packages and Download Dataset"
      ],
      "metadata": {
        "id": "sC9OyXfhEe9q"
      }
    },
    {
      "cell_type": "markdown",
      "source": [
        "**https://universe.roboflow.com/mouth-detection/mouth-detection-tkoln**"
      ],
      "metadata": {
        "id": "tf8JTAjJGXVi"
      }
    },
    {
      "cell_type": "code",
      "execution_count": null,
      "metadata": {
        "id": "jG52lsjLfKm1"
      },
      "outputs": [],
      "source": [
        "# Roboflow for Dataset\n",
        "!pip install roboflow\n",
        "\n",
        "# YOLOV8\n",
        "!pip install ultralytics"
      ]
    },
    {
      "cell_type": "code",
      "source": [
        "from roboflow import Roboflow\n",
        "rf = Roboflow(api_key=\"ueSrp8zT1NmWHzCxoYmt\")\n",
        "project = rf.workspace(\"mouth-detection\").project(\"mouth-detection-tkoln\")\n",
        "version = project.version(7)\n",
        "dataset = version.download(\"yolov8\")"
      ],
      "metadata": {
        "id": "7FqZPNshOV7M"
      },
      "execution_count": null,
      "outputs": []
    },
    {
      "cell_type": "code",
      "source": [
        "import ultralytics\n",
        "\n",
        "# Check GPU\n",
        "ultralytics.checks()"
      ],
      "metadata": {
        "id": "lFQfD4AiiOrJ"
      },
      "execution_count": null,
      "outputs": []
    },
    {
      "cell_type": "markdown",
      "source": [
        "# Fix YAML Paths"
      ],
      "metadata": {
        "id": "fu67LwtJEqLg"
      }
    },
    {
      "cell_type": "code",
      "source": [
        "import yaml\n",
        "import os\n",
        "\n",
        "def edit_yaml_paths(yaml_file_path):\n",
        "    # Dataset main directory\n",
        "    root_dir = os.path.dirname(yaml_file_path)\n",
        "\n",
        "    # Load the YAML file\n",
        "    with open(yaml_file_path, 'r') as file:\n",
        "        data = yaml.safe_load(file)\n",
        "\n",
        "    # Modify YAML file to include correct subset paths\n",
        "    data['train'] = os.path.join(root_dir, 'train/images')\n",
        "    data['val'] = os.path.join(root_dir, 'test/images') # This dataset does not have a validation subset\n",
        "    data['test'] = os.path.join(root_dir, 'test/images')\n",
        "\n",
        "    with open(yaml_file_path, 'w') as file:\n",
        "        yaml.safe_dump(data, file)\n",
        "\n",
        "    print(\"YAML file updated successfully!\")\n"
      ],
      "metadata": {
        "id": "fI1m4NkRP8F4"
      },
      "execution_count": null,
      "outputs": []
    },
    {
      "cell_type": "code",
      "source": [
        "yaml_path = '/content/Mouth-Detection-7/data.yaml'\n",
        "edit_yaml_paths(yaml_path)"
      ],
      "metadata": {
        "id": "UoeM1TSZWahj"
      },
      "execution_count": null,
      "outputs": []
    },
    {
      "cell_type": "markdown",
      "source": [
        "# Create, Train, and Validate Model"
      ],
      "metadata": {
        "id": "2Y3IBnDDExIb"
      }
    },
    {
      "cell_type": "code",
      "source": [
        "from ultralytics import YOLO\n",
        "import warnings\n",
        "# Load trained model\n",
        "weights_path = '/content/best.pt'\n",
        "try:\n",
        "    object_detect_model = YOLO(weights_path)\n",
        "    print(f\"Loaded model with best weights from {weights_path}\")\n",
        "except FileNotFoundError:\n",
        "    warnings.warn(f\"MODEL NOT FOUND AT {weights_path}, LOADING GENERIC PRETRAINED YOLOv8 MODEL INSTEAD.\")\n",
        "    object_detect_model = YOLO('yolov8n.pt')  # Load a normal YOLO model with pretrained weights"
      ],
      "metadata": {
        "id": "_Eog0oJyfggc"
      },
      "execution_count": null,
      "outputs": []
    },
    {
      "cell_type": "code",
      "source": [
        "# TRAIN, VALIDATE, AND TEST MODEL\n",
        "training = object_detect_model.train(data=yaml_path, epochs=15)\n",
        "validation = object_detect_model.val()\n",
        "testing = object_detect_model.val(data=yaml_path, split='test')"
      ],
      "metadata": {
        "id": "a_NQcDpzFf7f"
      },
      "execution_count": null,
      "outputs": []
    },
    {
      "cell_type": "markdown",
      "source": [
        "# Zip weights folder to be downloaded"
      ],
      "metadata": {
        "id": "sQkTXAKfE2Gn"
      }
    },
    {
      "cell_type": "code",
      "source": [
        "import shutil\n",
        "from IPython.display import FileLink\n",
        "\n",
        "\n",
        "directory_to_zip = \"/content/runs\"\n",
        "output_zip = \"/content/runs.zip\"\n",
        "\n",
        "# Zip the directory\n",
        "shutil.make_archive(output_zip.replace('.zip', ''), 'zip', directory_to_zip)\n",
        "\n",
        "# Check if the zip file was created successfully\n",
        "if os.path.exists(output_zip):\n",
        "    print(f\"Successfully created zip file: {output_zip}\")\n",
        "    # Provide a link to download the zip file\n",
        "    display(FileLink(output_zip))\n",
        "else:\n",
        "    print(\"Failed to create zip file\")\n"
      ],
      "metadata": {
        "id": "IdCt_F8domoj"
      },
      "execution_count": null,
      "outputs": []
    }
  ]
}